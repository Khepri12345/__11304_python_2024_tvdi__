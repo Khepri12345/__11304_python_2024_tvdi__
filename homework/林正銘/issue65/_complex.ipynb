{
 "cells": [
  {
   "cell_type": "code",
   "execution_count": 1,
   "metadata": {},
   "outputs": [
    {
     "data": {
      "text/plain": [
       "[['robert', 78, 92, 65], ['jenny', 65, 96, 72], ['alice', 85, 72, 95]]"
      ]
     },
     "execution_count": 1,
     "metadata": {},
     "output_type": "execute_result"
    }
   ],
   "source": [
    "students:list[list]=[\n",
    "  [\"robert\",78,92,65],\n",
    "  [\"jenny\",65,96,72],\n",
    "  [\"alice\",85,72,95]\n",
    "]\n",
    "students\n"
   ]
  },
  {
   "cell_type": "code",
   "execution_count": 4,
   "metadata": {},
   "outputs": [],
   "source": [
    "students:list[dict]=[\n",
    "{\"name\":\"Ian\",\"chinese\":78,\"english\":92,\"math\":65},\n",
    "{\"name\":\"Jenny\",\"chinese\":78,\"english\":92,\"math\":65},\n",
    "{\"name\":\"Amy\",\"chinese\":78,\"english\":92,\"math\":65},\n",
    "]"
   ]
  }
 ],
 "metadata": {
  "kernelspec": {
   "display_name": "venv1",
   "language": "python",
   "name": "python3"
  },
  "language_info": {
   "codemirror_mode": {
    "name": "ipython",
    "version": 3
   },
   "file_extension": ".py",
   "mimetype": "text/x-python",
   "name": "python",
   "nbconvert_exporter": "python",
   "pygments_lexer": "ipython3",
   "version": "3.10.14"
  }
 },
 "nbformat": 4,
 "nbformat_minor": 2
}
