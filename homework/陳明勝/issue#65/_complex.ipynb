{
 "cells": [
  {
   "cell_type": "code",
   "execution_count": 1,
   "metadata": {},
   "outputs": [
    {
     "data": {
      "text/plain": [
       "[['robert', 78, 92, 65], ['jenny', 65, 96, 72], ['alice', 85, 72, 95]]"
      ]
     },
     "execution_count": 1,
     "metadata": {},
     "output_type": "execute_result"
    }
   ],
   "source": [
    "students:list[list]= [\n",
    "                        ['robert',78,92,65],\n",
    "                        ['jenny',65,96,72],\n",
    "                        ['alice',85,72,95]\n",
    "                    ]\n",
    "\n",
    "students "
   ]
  },
  {
   "cell_type": "code",
   "execution_count": null,
   "metadata": {},
   "outputs": [],
   "source": [
    "[\n",
    "    {'name':'robert,'chinese':99,'english':98,'math':97},\n",
    "    {'name':'jenny,'chinese':89,'english':88,'math':87},\n",
    "    {'name':'alice,'chinese':79,'english':78,'math':79}\n",
    "]\n"
   ]
  }
 ],
 "metadata": {
  "kernelspec": {
   "display_name": "venv1",
   "language": "python",
   "name": "python3"
  },
  "language_info": {
   "codemirror_mode": {
    "name": "ipython",
    "version": 3
   },
   "file_extension": ".py",
   "mimetype": "text/x-python",
   "name": "python",
   "nbconvert_exporter": "python",
   "pygments_lexer": "ipython3",
   "version": "3.10.14"
  }
 },
 "nbformat": 4,
 "nbformat_minor": 2
}
