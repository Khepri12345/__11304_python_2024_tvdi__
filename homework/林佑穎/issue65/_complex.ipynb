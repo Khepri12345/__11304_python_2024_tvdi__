{
 "cells": [
  {
   "cell_type": "code",
   "execution_count": null,
   "metadata": {},
   "outputs": [],
   "source": [
    "students:list[list]= [\n",
    "                        ['robert',78,92,65],\n",
    "                        ['jenny',65,96,72],\n",
    "                        ['alice',85,72,95]\n",
    "                    ]\n",
    "\n",
    "students"
   ]
  },
  {
   "cell_type": "code",
   "execution_count": null,
   "metadata": {},
   "outputs": [],
   "source": [
    "students:list[dict] = [\n",
    "    {'name':'robert','chinese':78,'english':92,'math':65},\n",
    "    {'name':'jenny','chinese':78,'english':92,'math':65},\n",
    "    {'name':'alice','chinese':78,'english':92,'math':65}\n",
    "]\n",
    "students"
   ]
  }
 ],
 "metadata": {
  "language_info": {
   "name": "python"
  }
 },
 "nbformat": 4,
 "nbformat_minor": 2
}
