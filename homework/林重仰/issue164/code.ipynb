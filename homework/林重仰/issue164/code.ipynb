{
 "cells": [
  {
   "cell_type": "code",
   "execution_count": null,
   "metadata": {},
   "outputs": [],
   "source": [
    "from pydantic import BaseModel\n",
    "with open (\"data.json\") as data:\n",
    "    data=data.read()\n",
    "class Status(BaseModel):\n",
    "    name:str\n",
    "    status:str\n",
    "\n",
    "class Projects(BaseModel):\n",
    "    projects:list[Status]\n",
    "\n",
    "class Address(BaseModel):\n",
    "    street:str\n",
    "    city:str\n",
    "    zipcode:int\n",
    "\n",
    "class Person(BaseModel):\n",
    "    name:str\n",
    "    age:int\n",
    "    address:Address\n",
    "    projects:list[Status]\n",
    "\n",
    "p1=Person.model_validate_json(data)\n",
    "dict_p1:dict=p1.model_dump()\n",
    "dict_p1\n",
    "{'name': 'Alice',\n",
    " 'age': 30,\n",
    " 'address': {'street': '123 Main St', 'city': 'Springfield', 'zipcode': 12345},\n",
    " 'projects': [{'name': 'Project A', 'status': 'completed'},\n",
    "  {'name': 'Project B', 'status': 'ongoing'}]}"
   ]
  }
 ],
 "metadata": {
  "kernelspec": {
   "display_name": "venv1",
   "language": "python",
   "name": "python3"
  },
  "language_info": {
   "name": "python",
   "version": "3.10.14"
  }
 },
 "nbformat": 4,
 "nbformat_minor": 2
}
